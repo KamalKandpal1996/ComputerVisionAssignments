{
 "cells": [
  {
   "cell_type": "markdown",
   "id": "4f0f88d6-61a6-46f0-bdd8-ab555bada711",
   "metadata": {},
   "source": [
    "### EXERCISE : Program to create a white image with four corner boxes of different colours.(size of the image is entered by the user)"
   ]
  },
  {
   "cell_type": "code",
   "execution_count": 29,
   "id": "8cae7a9f-8ba1-4328-8d59-1e46380ee211",
   "metadata": {},
   "outputs": [],
   "source": [
    "import numpy as np\n",
    "import cv2\n",
    "from matplotlib import pyplot as plt"
   ]
  },
  {
   "cell_type": "code",
   "execution_count": 40,
   "id": "f4045c43-7a3d-45fc-8224-f429ab746b25",
   "metadata": {},
   "outputs": [
    {
     "name": "stdin",
     "output_type": "stream",
     "text": [
      "Enter the height of the image(pixels) :  100\n",
      "Enter the widtht of the image(pixels) :  300\n"
     ]
    },
    {
     "data": {
      "image/png": "[encoded data removed]",
      "text/plain": [
       "<Figure size 432x288 with 1 Axes>"
      ]
     },
     "metadata": {},
     "output_type": "display_data"
    }
   ],
   "source": [
    "height = int(input('Enter the height of the image(pixels) : '))\n",
    "width = int(input('Enter the widtht of the image(pixels) : '))\n",
    "img = np.zeros([height,width,3], dtype = np.uint8)  # numpy for n-dimensional array (Here n=3)\n",
    "img.fill(255)\n",
    "\n",
    "# 2nd argument : top left corner of rectangel # 3rd argument : bottom right corner of rectangle\n",
    "img_rect = cv2.rectangle(img,(0,0),(int(width/10),int(height/10)),(0,0,0),-1)  # RGB (0,0,0) = black\n",
    "img_rect = cv2.rectangle(img,(int(width-width/10),0),(int(width),int(height/10)),(255,0,0),-1)  #RGB (0,0,255) = blue \n",
    "img_rect = cv2.rectangle(img,(0,int(height - height/10)),(int(width/10),int(height)),(0,255,0),-1) #RGB (0,255,0) = Green\n",
    "img_rect = cv2.rectangle(img,(int(width - width/10),int(height - height/10)),(int(width),int(height)),(0,0,255),-1) # RGB (255,0,0) = Red\n",
    "\n",
    "# cv2.imshow('Blank', img_rect)\n",
    "# cv2.waitKey(0)\n",
    "\n",
    "img_rect = cv2.cvtColor(img, cv2.COLOR_BGR2RGB)\n",
    "plt.imshow(img_rect)\n",
    "plt.xticks([]),plt.yticks([]) #Hides the graph ticks and x/y axis.    \n",
    "plt.show()"
   ]
  },
  {
   "cell_type": "code",
   "execution_count": null,
   "id": "f1d91a83-dffe-43ab-9d10-5c66a7dc9542",
   "metadata": {},
   "outputs": [],
   "source": []
  }
 ],
 "metadata": {
  "kernelspec": {
   "display_name": "Python 3 (ipykernel)",
   "language": "python",
   "name": "python3"
  },
  "language_info": {
   "codemirror_mode": {
    "name": "ipython",
    "version": 3
   },
   "file_extension": ".py",
   "mimetype": "text/x-python",
   "name": "python",
   "nbconvert_exporter": "python",
   "pygments_lexer": "ipython3",
   "version": "3.9.4"
  }
 },
 "nbformat": 4,
 "nbformat_minor": 5
}
